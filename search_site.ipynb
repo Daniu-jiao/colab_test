{
  "nbformat": 4,
  "nbformat_minor": 0,
  "metadata": {
    "colab": {
      "provenance": [],
      "authorship_tag": "ABX9TyOeW73TAaG+ptjVYad2pw3z",
      "include_colab_link": true
    },
    "kernelspec": {
      "name": "python3",
      "display_name": "Python 3"
    },
    "language_info": {
      "name": "python"
    },
    "accelerator": "GPU",
    "gpuClass": "standard"
  },
  "cells": [
    {
      "cell_type": "markdown",
      "metadata": {
        "id": "view-in-github",
        "colab_type": "text"
      },
      "source": [
        "<a href=\"https://colab.research.google.com/github/Daniu-jiao/colab_test/blob/main/search_site.ipynb\" target=\"_parent\"><img src=\"https://colab.research.google.com/assets/colab-badge.svg\" alt=\"Open In Colab\"/></a>"
      ]
    },
    {
      "cell_type": "markdown",
      "source": [
        "# 这个文件主要是为了查询每一个文件所在的位置。\n",
        "## 使用的时候要注意每个位置 "
      ],
      "metadata": {
        "id": "hgvthFBY4c_A"
      }
    },
    {
      "cell_type": "markdown",
      "source": [
        "# 设置使用GPU在代码执行程序\n",
        "## 更改运行类型 \n"
      ],
      "metadata": {
        "id": "3IzsIjyo5Fhb"
      }
    },
    {
      "cell_type": "code",
      "execution_count": 1,
      "metadata": {
        "colab": {
          "base_uri": "https://localhost:8080/"
        },
        "id": "eSOWIzGq2TDD",
        "outputId": "5a42d113-cb8d-46b0-827f-71af9877ea50"
      },
      "outputs": [
        {
          "output_type": "stream",
          "name": "stdout",
          "text": [
            "Mounted at /content/drive\n"
          ]
        }
      ],
      "source": [
        "#挂载网盘\n",
        "from google.colab import drive\n",
        "drive.mount(\"/content/drive\")"
      ]
    },
    {
      "cell_type": "code",
      "source": [
        "import os\n",
        "path = \"/content/drive/\"\n",
        "os.chdir(path)\n",
        "os.listdir(path)"
      ],
      "metadata": {
        "colab": {
          "base_uri": "https://localhost:8080/"
        },
        "id": "0rqEMm1z3VTX",
        "outputId": "d5bbd946-8dc4-4df3-9682-61fdc156d488"
      },
      "execution_count": 3,
      "outputs": [
        {
          "output_type": "execute_result",
          "data": {
            "text/plain": [
              "['MyDrive', '.file-revisions-by-id', '.shortcut-targets-by-id', '.Trash-0']"
            ]
          },
          "metadata": {},
          "execution_count": 3
        }
      ]
    },
    {
      "cell_type": "code",
      "source": [],
      "metadata": {
        "id": "BD3Ajhiv4Gs0"
      },
      "execution_count": null,
      "outputs": []
    },
    {
      "cell_type": "code",
      "source": [
        "import os\n",
        "path = \"/content/drive/MyDrive\"\n",
        "os.chdir(path)\n",
        "os.listdir(path)"
      ],
      "metadata": {
        "colab": {
          "base_uri": "https://localhost:8080/"
        },
        "outputId": "842bf429-0dc2-4828-8170-355d3505e078",
        "id": "Uij_Il544HPd"
      },
      "execution_count": 4,
      "outputs": [
        {
          "output_type": "execute_result",
          "data": {
            "text/plain": [
              "['Colab Notebooks', 'Vgg16Net.py', 'vgg16.ipynb', 'part2.ipynb']"
            ]
          },
          "metadata": {},
          "execution_count": 4
        }
      ]
    },
    {
      "cell_type": "code",
      "source": [
        "import os\n",
        "path = \"/content/drive/MyDrive/Colab Notebooks\"\n",
        "os.chdir(path)\n",
        "os.listdir(path)"
      ],
      "metadata": {
        "colab": {
          "base_uri": "https://localhost:8080/"
        },
        "id": "WCgRNUWc4OVn",
        "outputId": "04d184fa-c344-40d1-9eff-7a2f2202ac15"
      },
      "execution_count": 5,
      "outputs": [
        {
          "output_type": "execute_result",
          "data": {
            "text/plain": [
              "['Untitled0.ipynb', '“欢迎使用 Colaboratory”的副本 (1)', '“欢迎使用 Colaboratory”的副本']"
            ]
          },
          "metadata": {},
          "execution_count": 5
        }
      ]
    }
  ]
}